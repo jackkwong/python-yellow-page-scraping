{
 "cells": [
  {
   "cell_type": "markdown",
   "metadata": {},
   "source": [
    "Requirement\n",
    "=============\n",
    "\n",
    "\n",
    "------------\n",
    "\n",
    "From this url `http://www.5metal.com.hk/ajax/pager/company_fea?view_amount=36&page=1`,\n",
    "\n",
    "We get a list of urls for detail pages like `http://www.5metal.com.hk/wongwahkee/contact` to scrape the companies' info\n",
    "\n",
    "------------\n",
    "\n",
    "\n",
    "Info to scrape:\n",
    "\n",
    "1. address\n",
    "2. company name\n",
    "3. company website\n",
    "4. contact number\n",
    "5. contact person\n",
    "6. email\n",
    "7. mobile phone\n",
    "\n",
    "------------"
   ]
  },
  {
   "cell_type": "code",
   "execution_count": 3,
   "metadata": {
    "collapsed": true
   },
   "outputs": [],
   "source": [
    "import urllib2\n",
    "import bs4"
   ]
  },
  {
   "cell_type": "code",
   "execution_count": null,
   "metadata": {
    "collapsed": false
   },
   "outputs": [],
   "source": []
  }
 ],
 "metadata": {
  "kernelspec": {
   "display_name": "Python 2",
   "language": "python",
   "name": "python2"
  },
  "language_info": {
   "codemirror_mode": {
    "name": "ipython",
    "version": 2
   },
   "file_extension": ".py",
   "mimetype": "text/x-python",
   "name": "python",
   "nbconvert_exporter": "python",
   "pygments_lexer": "ipython2",
   "version": "2.7.11"
  }
 },
 "nbformat": 4,
 "nbformat_minor": 0
}
