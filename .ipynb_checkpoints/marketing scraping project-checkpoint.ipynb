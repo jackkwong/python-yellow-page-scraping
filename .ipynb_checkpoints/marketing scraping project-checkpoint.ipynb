{
 "cells": [
  {
   "cell_type": "markdown",
   "metadata": {},
   "source": [
    "Requirements\n",
    "------------------\n",
    "\n",
    "\n",
    "From this url `http://www.5metal.com.hk/ajax/pager/company_fea?view_amount=36&page=1`,\n",
    "\n",
    "We get a list of urls for detail pages like `http://www.5metal.com.hk/wongwahkee/contact` to scrape the companies' info\n",
    "\n",
    "------------\n",
    "\n",
    "\n",
    "Info to scrape:\n",
    "\n",
    "1. address\n",
    "2. company name\n",
    "3. company website\n",
    "4. contact number\n",
    "5. contact person\n",
    "6. email\n",
    "7. mobile phone\n",
    "\n",
    "------------"
   ]
  },
  {
   "cell_type": "code",
   "execution_count": null,
   "metadata": {
    "collapsed": true
   },
   "outputs": [],
   "source": [
    "from IPython.core.display import display, HTML\n",
    "import urllib2\n",
    "import bs4\n",
    "import urlparse\n",
    "import pandas as pd\n",
    "import numpy as np"
   ]
  },
  {
   "cell_type": "markdown",
   "metadata": {},
   "source": [
    "Get all the detail page links to scrape\n",
    "------------\n",
    "\n",
    "Since the index page has multiple pages (10 pages for now), we'll need to handle pagination, and note that the `page` parameter is **zero-indexed**"
   ]
  },
  {
   "cell_type": "code",
   "execution_count": null,
   "metadata": {
    "collapsed": true
   },
   "outputs": [],
   "source": [
    "index_page_url = 'http://www.5metal.com.hk/ajax/pager/company?keyword=&page=0&tid=1'"
   ]
  },
  {
   "cell_type": "code",
   "execution_count": null,
   "metadata": {
    "collapsed": false
   },
   "outputs": [],
   "source": [
    "index_page_src = urllib2.urlopen(index_page_url).read()\n",
    "index_page_soup = bs4.BeautifulSoup(index_page_src, 'html.parser')"
   ]
  },
  {
   "cell_type": "markdown",
   "metadata": {},
   "source": [
    "The index page HTML source:"
   ]
  },
  {
   "cell_type": "code",
   "execution_count": null,
   "metadata": {
    "collapsed": false
   },
   "outputs": [],
   "source": [
    "print(index_page_soup.prettify())"
   ]
  },
  {
   "cell_type": "markdown",
   "metadata": {},
   "source": [
    "The index page looks like:"
   ]
  },
  {
   "cell_type": "code",
   "execution_count": null,
   "metadata": {
    "collapsed": false
   },
   "outputs": [],
   "source": [
    "display(HTML(index_page_src))"
   ]
  },
  {
   "cell_type": "code",
   "execution_count": null,
   "metadata": {
    "collapsed": false
   },
   "outputs": [],
   "source": [
    "number_of_index_pages = int(index_page_soup.select_one('.pager-current').getText().split('of')[1])\n",
    "print(number_of_index_pages)"
   ]
  },
  {
   "cell_type": "code",
   "execution_count": null,
   "metadata": {
    "collapsed": false
   },
   "outputs": [],
   "source": [
    "detail_pages_links = []\n",
    "\n",
    "for i in xrange(number_of_index_pages):\n",
    "    current_index_page_url = ('http://www.5metal.com.hk/ajax/pager/company?keyword=&page=%d&tid=1' % i)\n",
    "    print('scraping index page: %s' % current_index_page_url)\n",
    "    try:\n",
    "        current_index_page_src = urllib2.urlopen(current_index_page_url).read()\n",
    "        current_index_page_soup = bs4.BeautifulSoup(index_page_src, 'html.parser')\n",
    "\n",
    "        detail_pages_links_in_current_page = [anchor.get('href') for anchor in current_index_page_soup.select('.views-field .company .logo a[href]')]\n",
    "        detail_pages_links_in_current_page = [urlparse.urljoin(current_index_page_url, link) for link in detail_pages_links_in_current_page if link is not None]\n",
    "        detail_pages_links += detail_pages_links_in_current_page\n",
    "    except Exception:\n",
    "        print('there was an exception when scraping index page: %s' % index_page_url)\n",
    "    \n",
    "scraped_data = pd.DataFrame(data={'detail_page_url': detail_pages_links})\n",
    "scraped_data['address'] = None\n",
    "scraped_data['company_name'] = None\n",
    "scraped_data['company_website'] = None\n",
    "scraped_data['contact_number'] = None\n",
    "scraped_data['contact_person'] = None\n",
    "scraped_data['fax'] = None\n",
    "scraped_data['email'] = None\n",
    "scraped_data['mobile_phone'] = None\n",
    "\n",
    "print('No. of links got: ' + str(scraped_data.shape[0]))\n",
    "print(scraped_data.head(10))"
   ]
  },
  {
   "cell_type": "markdown",
   "metadata": {},
   "source": [
    "Develop scraping function for detail page\n",
    "-----------\n",
    "\n",
    "Now we work on getting company info from detail page url, it turns out that each detail page url points to a company website of **nearly** standard format (**some** after url redirection), and all the info we need can be found in `Contact` page of the detail page\n",
    "\n",
    "Note that currently there're **2 designs**, so we need two ways for scraping"
   ]
  },
  {
   "cell_type": "markdown",
   "metadata": {},
   "source": [
    "This is how we handle redirection:"
   ]
  },
  {
   "cell_type": "code",
   "execution_count": null,
   "metadata": {
    "collapsed": false
   },
   "outputs": [],
   "source": [
    "sample_detail_page_url = detail_pages_links[0]\n",
    "print('sample_detail_page_url:')\n",
    "print(sample_detail_page_url)\n",
    "\n",
    "redirected_sample_detail_page_url = urllib2.urlopen(sample_detail_page_url).geturl()\n",
    "print('redirected_sample_detail_page_url:')\n",
    "print(redirected_sample_detail_page_url)\n",
    "\n",
    "sample_contact_page_url = redirected_sample_detail_page_url + '/contact'\n",
    "print('sample_contact_page_url:')\n",
    "print(sample_contact_page_url)"
   ]
  },
  {
   "cell_type": "markdown",
   "metadata": {},
   "source": [
    "so we create his helper function:"
   ]
  },
  {
   "cell_type": "code",
   "execution_count": null,
   "metadata": {
    "collapsed": true
   },
   "outputs": [],
   "source": [
    "def get_contact_page_soup_from_detail_page_url(detail_page_url):\n",
    "\n",
    "    redirected_detail_page_url = urllib2.urlopen(detail_page_url).geturl()\n",
    "    contact_page_url = redirected_detail_page_url + '/contact'\n",
    "    contact_page_src = urllib2.urlopen(contact_page_url).read()\n",
    "    return bs4.BeautifulSoup(contact_page_src, 'html.parser')"
   ]
  },
  {
   "cell_type": "markdown",
   "metadata": {},
   "source": [
    "test~"
   ]
  },
  {
   "cell_type": "code",
   "execution_count": null,
   "metadata": {
    "collapsed": false
   },
   "outputs": [],
   "source": [
    "get_contact_page_soup_from_detail_page_url(detail_pages_links[0])"
   ]
  },
  {
   "cell_type": "markdown",
   "metadata": {},
   "source": [
    "handle design 1 (eg. http://www.5metal.com.hk/node/562):\n",
    "----------"
   ]
  },
  {
   "cell_type": "code",
   "execution_count": null,
   "metadata": {
    "collapsed": false
   },
   "outputs": [],
   "source": [
    "detail_page_url_design1 = 'http://www.5metal.com.hk/node/562'\n",
    "sample_contact_page_soup_design1 = get_contact_page_soup_from_detail_page_url(detail_page_url_design1)\n",
    "print(sample_contact_page_soup_design1.prettify())"
   ]
  },
  {
   "cell_type": "markdown",
   "metadata": {},
   "source": [
    "The section **we're interested in**:"
   ]
  },
  {
   "cell_type": "code",
   "execution_count": null,
   "metadata": {
    "collapsed": false
   },
   "outputs": [],
   "source": [
    "contact_info_soup = sample_contact_page_soup_design1.select_one('.company_right')\n",
    "print contact_info_soup.prettify()"
   ]
  },
  {
   "cell_type": "code",
   "execution_count": null,
   "metadata": {
    "collapsed": false
   },
   "outputs": [],
   "source": [
    "fields_and_selectors = [\n",
    "   ( 'company_name', '.node_title'),\n",
    "    ('address', '.field-name-field-company-address .field-item'), \n",
    "    ('contact_person', '.field-name-field-contact-person .field-item'), \n",
    "    ('contact_number', '.field-name-field-company-tel .field-item'), \n",
    "    ('mobile_phone', '.field-name-field-mobile .field-item'), \n",
    "    ('fax', '.field-name-field-company-fax .field-item'), \n",
    "    ('email', '.field-name-field-email .field-item'), \n",
    "    ('company_website', '.field-name-field-company-url .field-item')\n",
    "]\n",
    "values = [(value and value.getText().strip()) for value in [contact_info_soup.select_one(x[1]) for x in fields_and_selectors]]\n",
    "company_info = pd.DataFrame(data={'values': values}, index=[field for (field, css_selector) in fields_and_selectors])\n",
    "print company_info"
   ]
  },
  {
   "cell_type": "markdown",
   "metadata": {},
   "source": [
    "Combining all the process above, we can create a function that given a detail page url, return the company's info:"
   ]
  },
  {
   "cell_type": "code",
   "execution_count": null,
   "metadata": {
    "collapsed": true
   },
   "outputs": [],
   "source": [
    "def get_company_info_from_soup_design1(contact_page_soup):\n",
    "    contact_info_soup = contact_page_soup.select_one('.company_right')\n",
    "    \n",
    "    fields_and_selectors = [\n",
    "       ( 'company_name', '.node_title'),\n",
    "        ('address', '.field-name-field-company-address .field-item'), \n",
    "        ('contact_person', '.field-name-field-contact-person .field-item'), \n",
    "        ('contact_number', '.field-name-field-company-tel .field-item'), \n",
    "        ('mobile_phone', '.field-name-field-mobile .field-item'), \n",
    "        ('fax', '.field-name-field-company-fax .field-item'), \n",
    "        ('email', '.field-name-field-email .field-item'), \n",
    "        ('company_website', '.field-name-field-company-url .field-item')\n",
    "    ]\n",
    "    fields = [field for (field, css_selector) in fields_and_selectors]\n",
    "    \n",
    "    values = [(value and value.getText().strip()) for value in [contact_info_soup.select_one(x[1]) for x in fields_and_selectors]]\n",
    "    return {field:value for (field, value) in zip(fields, values)}"
   ]
  },
  {
   "cell_type": "markdown",
   "metadata": {},
   "source": [
    "test run :) :"
   ]
  },
  {
   "cell_type": "code",
   "execution_count": null,
   "metadata": {
    "collapsed": false
   },
   "outputs": [],
   "source": [
    "test_run_result = get_company_info_from_soup_design1(get_contact_page_soup_from_detail_page_url(detail_page_url_design1))\n",
    "print(test_run_result)"
   ]
  },
  {
   "cell_type": "markdown",
   "metadata": {},
   "source": [
    "handle design 2 (eg. http://www.5metal.com.hk/node/13112):\n",
    "----------"
   ]
  },
  {
   "cell_type": "code",
   "execution_count": null,
   "metadata": {
    "collapsed": false
   },
   "outputs": [],
   "source": [
    "detail_page_url_design2 = 'http://www.5metal.com.hk/node/13112'\n",
    "sample_contact_page_soup_design2 = get_contact_page_soup_from_detail_page_url(detail_page_url_design2)\n",
    "print(sample_contact_page_soup_design2.prettify())"
   ]
  },
  {
   "cell_type": "markdown",
   "metadata": {},
   "source": [
    "The section **we're interested in**:"
   ]
  },
  {
   "cell_type": "code",
   "execution_count": null,
   "metadata": {
    "collapsed": false
   },
   "outputs": [],
   "source": [
    "contact_info_soup = sample_contact_page_soup_design2.select_one('.cp-contact .cp-box-content')\n",
    "print contact_info_soup.prettify()"
   ]
  },
  {
   "cell_type": "code",
   "execution_count": null,
   "metadata": {
    "collapsed": false
   },
   "outputs": [],
   "source": [
    "contact_info_soup = sample_contact_page_soup_design2.select_one('.cp-contact .cp-box-content')\n",
    "fields = ['company_name', 'address', 'contact_person', 'contact_number', 'mobile_phone', 'fax', 'email', 'company_website']\n",
    "values = [contact_info_soup.select_one('.row.company_name' + ' + .row' * i + ' .val').getText().strip() for i in xrange(len(fields))]\n",
    "{field:value for (field, value) in zip(fields, values)}"
   ]
  },
  {
   "cell_type": "markdown",
   "metadata": {},
   "source": [
    "Scraping function for design 2"
   ]
  },
  {
   "cell_type": "code",
   "execution_count": null,
   "metadata": {
    "collapsed": true
   },
   "outputs": [],
   "source": [
    "def get_company_info_from_soup_design2(contact_page_soup):\n",
    "    contact_info_soup = contact_page_soup.select_one('.cp-contact .cp-box-content')\n",
    "    \n",
    "    fields = ['company_name', 'address', 'contact_person', 'contact_number', 'mobile_phone', 'fax', 'email', 'company_website']\n",
    "    values = [contact_info_soup.select_one('.row.company_name' + ' + .row' * i + ' .val').getText().strip() for i in xrange(len(fields))]\n",
    "    return {field:value for (field, value) in zip(fields, values)}"
   ]
  },
  {
   "cell_type": "markdown",
   "metadata": {},
   "source": [
    "test run:"
   ]
  },
  {
   "cell_type": "code",
   "execution_count": null,
   "metadata": {
    "collapsed": false
   },
   "outputs": [],
   "source": [
    "test_run_result = get_company_info_from_soup_design2(get_contact_page_soup_from_detail_page_url(detail_page_url_design2))\n",
    "print(test_run_result)"
   ]
  },
  {
   "cell_type": "markdown",
   "metadata": {},
   "source": [
    "The main scraping\n",
    "------------\n",
    "\n",
    "Now, let's go and sc**rape** them all:"
   ]
  },
  {
   "cell_type": "code",
   "execution_count": null,
   "metadata": {
    "collapsed": false
   },
   "outputs": [],
   "source": [
    "final_scraped_data = scraped_data.copy()"
   ]
  },
  {
   "cell_type": "code",
   "execution_count": null,
   "metadata": {
    "collapsed": false
   },
   "outputs": [],
   "source": [
    "n = final_scraped_data.shape[0]\n",
    "start_index = 0\n",
    "end_index = n\n",
    "\n",
    "print('%d detail pages to scrape from' % (end_index - start_index))\n",
    "for i in xrange(start_index, end_index):\n",
    "    url_to_scrape_from = final_scraped_data.iloc[i]['detail_page_url']\n",
    "    print('[%4d/%4d] scraping url: %s' % (i, n,  url_to_scrape_from))\n",
    "    try:\n",
    "        contact_page_soup = get_contact_page_soup_from_detail_page_url(url_to_scrape_from)\n",
    "        is_design1 = (contact_page_soup.select_one('.company_right') is not None)\n",
    "        \n",
    "        if is_design1:\n",
    "            company_info = get_company_info_from_soup_design1(contact_page_soup)\n",
    "        else:\n",
    "            company_info = get_company_info_from_soup_design2(contact_page_soup)\n",
    "    \n",
    "        for col in final_scraped_data.columns:\n",
    "            if col is not 'detail_page_url':\n",
    "                final_scraped_data[col].iloc[i] = company_info[col]\n",
    "    except Exception:\n",
    "        print('there was an exception when scraping %dth url: %s' % (i, url_to_scrape_from))"
   ]
  },
  {
   "cell_type": "code",
   "execution_count": null,
   "metadata": {
    "collapsed": false
   },
   "outputs": [],
   "source": [
    "final_scraped_data"
   ]
  },
  {
   "cell_type": "markdown",
   "metadata": {},
   "source": [
    "Profit\n",
    "---------\n",
    "\n",
    "save our important information :)"
   ]
  },
  {
   "cell_type": "code",
   "execution_count": null,
   "metadata": {
    "collapsed": false
   },
   "outputs": [],
   "source": [
    "import datetime\n",
    "\n",
    "timestamp = str(datetime.datetime.now()).split('.')[0]\n",
    "filename = './scraped_result %s.csv' % timestamp\n",
    "print('saving data...')\n",
    "final_scraped_data.to_csv(filename, encoding='utf-8')\n",
    "print('saved data to %s'%filename)"
   ]
  },
  {
   "cell_type": "code",
   "execution_count": null,
   "metadata": {
    "collapsed": false
   },
   "outputs": [],
   "source": [
    "!cat '$filename'"
   ]
  },
  {
   "cell_type": "markdown",
   "metadata": {},
   "source": [
    "Afterthought\n",
    "-------------------\n",
    "Some of the scraping results in exception. After checking it in the browser, I found that these websites use a new design (or i should say new template since they look pretty similar to each other among this group) with a different HTML structure. By distinguishing old and new template, we can certainly further improve the scraping result"
   ]
  }
 ],
 "metadata": {
  "kernelspec": {
   "display_name": "Python 2",
   "language": "python",
   "name": "python2"
  },
  "language_info": {
   "codemirror_mode": {
    "name": "ipython",
    "version": 2
   },
   "file_extension": ".py",
   "mimetype": "text/x-python",
   "name": "python",
   "nbconvert_exporter": "python",
   "pygments_lexer": "ipython2",
   "version": "2.7.11"
  }
 },
 "nbformat": 4,
 "nbformat_minor": 0
}
